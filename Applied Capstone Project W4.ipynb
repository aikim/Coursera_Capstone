{
    "cells": [
        {
            "cell_type": "markdown",
            "metadata": {
                "collapsed": true
            },
            "source": "# Applied Capstone Project Week 4. Demand Forecast For VPP"
        },
        {
            "cell_type": "markdown",
            "metadata": {},
            "source": "## Table of Contents\n\n1. [Introduction](#intro)\n2. [Business Understanding](#business_understanding)\n3. [Data Understanding and Preparation](#data)"
        },
        {
            "cell_type": "markdown",
            "metadata": {},
            "source": "## 1. Introduction\n\n<a id=\"intro\"></a>"
        },
        {
            "cell_type": "markdown",
            "metadata": {},
            "source": "The electricity sector is changing rapidly and previously one-way market relationships between energy producers and consumers are no longer a single option. The course for decarbonisation, digitalisation and decentralisation has become a new strategic plan for the industry development. More often small and medium consumers of energy seek for greener and more profitable solutions, like solar panels, storage systems. These new market agents are called prosumers \u2014 consumers that produce energy.\n\nElectricity is a unique product due to its physical characteristics and is traded on the so-called Day Ahead Markets - for each hour of the next day. Thus, prosumers should keep their eye on volumes they consume and produce, as renewable energy generation is intermittent and from time to time prosumers still need to buy energy from the grid. And what to do during periods where they produce more energy than you can consume or store? \n\nOne of the possible local solutions is a creation of Virtual Power Plant (VPP) - an aggregator of prosumers that regulates their relationships with each other and the energy system. \n\nThis project is inspired by the 2017 course \u201cQualitative Methods In Energy Economics\u201d by Sergey Syntulsky. \n"
        },
        {
            "cell_type": "markdown",
            "metadata": {},
            "source": "## 2. Business Understanding\n\n<a id=\"business_understanding\"></a>"
        },
        {
            "cell_type": "markdown",
            "metadata": {},
            "source": "Technically, VPP is an entity that optimises energy flows within group and the market given existing distribution system constraints. Energy consumption is uneven with picks during the working hours and bottoms at night. The distribution depends on the production processes of each prosumer type. For example, fridges in warehouses usually work uniformly through the day, on the opposite, office buildings need more energy from 9:00 am till 18:00 and private houses \u2014 before 9:00 and after 18:00. At the same time, power generation of solar PV systems directly connected to the level of solar radiation during the day. \n\nThus, the demand profile of a set of prosumers varies through the day, the week and through the season. For VPP it is important to know typical behaviour of demand curve. This is the first question VPP developers should define for themselves after the set of prosumers is defined. However, what is the best algorithm for clustering hourly consumption data to find the most accurate estimate?\n\nIn this project we would compare three clustering methods in order to find the answer:\n- K-means;\n- Affinity propagation;\n- HDBSCAN "
        },
        {
            "cell_type": "markdown",
            "metadata": {},
            "source": "## 3. Data Understanding and Preparation\n\n<a id=\"data\"></a>"
        },
        {
            "cell_type": "markdown",
            "metadata": {},
            "source": "For this project the [open source data](https://data.lab.fiware.org//dataset/874ac2ac-1920-4639-a661-fab4864b7647/resource/06a22cae-694c-40a7-aabf-a0ddfe0611e8/download/ternipowerdemandalldata.csv) from Trial Site Terni, Italy. The trial took place at a small network segment that connected prosumers with solar power plants and a hydroelectric power station. The data set provides power demand/supply profiles in kW of customers in different energy sectors from 02/04/2014 to 27/07/2015."
        },
        {
            "cell_type": "code",
            "execution_count": 94,
            "metadata": {},
            "outputs": [],
            "source": "#Set the environment\n\nimport pandas as pd\nimport numpy as np\nimport requests\nfrom bs4 import BeautifulSoup\nfrom datetime import datetime"
        },
        {
            "cell_type": "code",
            "execution_count": 95,
            "metadata": {},
            "outputs": [
                {
                    "data": {
                        "text/html": "<div>\n<style scoped>\n    .dataframe tbody tr th:only-of-type {\n        vertical-align: middle;\n    }\n\n    .dataframe tbody tr th {\n        vertical-align: top;\n    }\n\n    .dataframe thead th {\n        text-align: right;\n    }\n</style>\n<table border=\"1\" class=\"dataframe\">\n  <thead>\n    <tr style=\"text-align: right;\">\n      <th></th>\n      <th>datetime</th>\n      <th>value</th>\n      <th>customer</th>\n    </tr>\n  </thead>\n  <tbody>\n    <tr>\n      <th>0</th>\n      <td>2014-04-02T00:16:04+02:00</td>\n      <td>12.0</td>\n      <td>SecondarySubstation</td>\n    </tr>\n    <tr>\n      <th>1</th>\n      <td>2014-04-02T00:16:04+02:00</td>\n      <td>187.0</td>\n      <td>CustomerLighting</td>\n    </tr>\n    <tr>\n      <th>2</th>\n      <td>2014-04-02T00:16:10+02:00</td>\n      <td>10.0</td>\n      <td>CustomerCommercial_2</td>\n    </tr>\n    <tr>\n      <th>3</th>\n      <td>2014-04-02T00:16:12+02:00</td>\n      <td>22.0</td>\n      <td>CustomerOffice_1</td>\n    </tr>\n    <tr>\n      <th>4</th>\n      <td>2014-04-02T00:16:14+02:00</td>\n      <td>65.0</td>\n      <td>CustomerOffice_2</td>\n    </tr>\n  </tbody>\n</table>\n</div>",
                        "text/plain": "                    datetime  value              customer\n0  2014-04-02T00:16:04+02:00   12.0   SecondarySubstation\n1  2014-04-02T00:16:04+02:00  187.0      CustomerLighting\n2  2014-04-02T00:16:10+02:00   10.0  CustomerCommercial_2\n3  2014-04-02T00:16:12+02:00   22.0      CustomerOffice_1\n4  2014-04-02T00:16:14+02:00   65.0      CustomerOffice_2"
                    },
                    "execution_count": 95,
                    "metadata": {},
                    "output_type": "execute_result"
                }
            ],
            "source": "#Read the data into pandas dataframe\n\nurl = 'https://data.lab.fiware.org//dataset/' + \\\n            \"874ac2ac-1920-4639-a661-fab4864b7647/resource/\" + \\\n            \"06a22cae-694c-40a7-aabf-a0ddfe0611e8/download/\" + \\\n            \"ternipowerdemandalldata.csv\"\n\ndFrame = pd.read_csv(url, sep = ';') #create a dataframe\ndFrame.columns = ['datetime','value', 'customer'] #rename columns for convenience\n\ndFrame.head()"
        },
        {
            "cell_type": "code",
            "execution_count": 96,
            "metadata": {},
            "outputs": [
                {
                    "data": {
                        "text/html": "<div>\n<style scoped>\n    .dataframe tbody tr th:only-of-type {\n        vertical-align: middle;\n    }\n\n    .dataframe tbody tr th {\n        vertical-align: top;\n    }\n\n    .dataframe thead th {\n        text-align: right;\n    }\n</style>\n<table border=\"1\" class=\"dataframe\">\n  <thead>\n    <tr style=\"text-align: right;\">\n      <th></th>\n      <th>datetime</th>\n      <th>value</th>\n      <th>customer</th>\n      <th>timeshift</th>\n      <th>date</th>\n      <th>hour</th>\n    </tr>\n  </thead>\n  <tbody>\n    <tr>\n      <th>0</th>\n      <td>2014-04-02 00:16:04</td>\n      <td>12.0</td>\n      <td>SecondarySubstation</td>\n      <td>02:00</td>\n      <td>2014-04-02</td>\n      <td>0</td>\n    </tr>\n    <tr>\n      <th>1</th>\n      <td>2014-04-02 00:16:04</td>\n      <td>187.0</td>\n      <td>CustomerLighting</td>\n      <td>02:00</td>\n      <td>2014-04-02</td>\n      <td>0</td>\n    </tr>\n    <tr>\n      <th>2</th>\n      <td>2014-04-02 00:16:10</td>\n      <td>10.0</td>\n      <td>CustomerCommercial_2</td>\n      <td>02:00</td>\n      <td>2014-04-02</td>\n      <td>0</td>\n    </tr>\n    <tr>\n      <th>3</th>\n      <td>2014-04-02 00:16:12</td>\n      <td>22.0</td>\n      <td>CustomerOffice_1</td>\n      <td>02:00</td>\n      <td>2014-04-02</td>\n      <td>0</td>\n    </tr>\n    <tr>\n      <th>4</th>\n      <td>2014-04-02 00:16:14</td>\n      <td>65.0</td>\n      <td>CustomerOffice_2</td>\n      <td>02:00</td>\n      <td>2014-04-02</td>\n      <td>0</td>\n    </tr>\n  </tbody>\n</table>\n</div>",
                        "text/plain": "             datetime  value              customer timeshift        date  hour\n0 2014-04-02 00:16:04   12.0   SecondarySubstation     02:00  2014-04-02     0\n1 2014-04-02 00:16:04  187.0      CustomerLighting     02:00  2014-04-02     0\n2 2014-04-02 00:16:10   10.0  CustomerCommercial_2     02:00  2014-04-02     0\n3 2014-04-02 00:16:12   22.0      CustomerOffice_1     02:00  2014-04-02     0\n4 2014-04-02 00:16:14   65.0      CustomerOffice_2     02:00  2014-04-02     0"
                    },
                    "execution_count": 96,
                    "metadata": {},
                    "output_type": "execute_result"
                }
            ],
            "source": "#Datetime column contains the information that \n\ndFrame[['datetime','timeshift']] = dFrame.datetime.str.split(\"+\",expand=True) #split datetime column into 'datetime' and 'timeshift'\n\ndFrame.datetime = pd.to_datetime(dFrame['datetime'], format=\"%Y-%m-%dT%H:%M:%S\") #convert into datetime format\n\ndFrame['date'] = dFrame.datetime.dt.date #create new column with dates\ndFrame['hour'] = dFrame.datetime.dt.hour #create new columns with hours\n\ndFrame.head()"
        },
        {
            "cell_type": "code",
            "execution_count": 97,
            "metadata": {},
            "outputs": [
                {
                    "data": {
                        "text/html": "<div>\n<style scoped>\n    .dataframe tbody tr th:only-of-type {\n        vertical-align: middle;\n    }\n\n    .dataframe tbody tr th {\n        vertical-align: top;\n    }\n\n    .dataframe thead th {\n        text-align: right;\n    }\n</style>\n<table border=\"1\" class=\"dataframe\">\n  <thead>\n    <tr style=\"text-align: right;\">\n      <th></th>\n      <th>date</th>\n      <th>hour</th>\n      <th>value</th>\n    </tr>\n  </thead>\n  <tbody>\n    <tr>\n      <th>0</th>\n      <td>2014-04-02</td>\n      <td>0</td>\n      <td>2642.0</td>\n    </tr>\n    <tr>\n      <th>1</th>\n      <td>2014-04-02</td>\n      <td>1</td>\n      <td>3270.0</td>\n    </tr>\n    <tr>\n      <th>2</th>\n      <td>2014-04-02</td>\n      <td>2</td>\n      <td>3382.0</td>\n    </tr>\n    <tr>\n      <th>3</th>\n      <td>2014-04-02</td>\n      <td>3</td>\n      <td>3170.0</td>\n    </tr>\n    <tr>\n      <th>4</th>\n      <td>2014-04-02</td>\n      <td>4</td>\n      <td>3495.0</td>\n    </tr>\n  </tbody>\n</table>\n</div>",
                        "text/plain": "         date  hour   value\n0  2014-04-02     0  2642.0\n1  2014-04-02     1  3270.0\n2  2014-04-02     2  3382.0\n3  2014-04-02     3  3170.0\n4  2014-04-02     4  3495.0"
                    },
                    "execution_count": 97,
                    "metadata": {},
                    "output_type": "execute_result"
                }
            ],
            "source": "#Create a new dataFrame with values grouped by date and hour\n\ndemand = dFrame.groupby(['date', 'hour']).sum().reset_index()\n\ndemand.head()"
        }
    ],
    "metadata": {
        "kernelspec": {
            "display_name": "Python 3.6",
            "language": "python",
            "name": "python3"
        },
        "language_info": {
            "codemirror_mode": {
                "name": "ipython",
                "version": 3
            },
            "file_extension": ".py",
            "mimetype": "text/x-python",
            "name": "python",
            "nbconvert_exporter": "python",
            "pygments_lexer": "ipython3",
            "version": "3.6.9"
        }
    },
    "nbformat": 4,
    "nbformat_minor": 1
}